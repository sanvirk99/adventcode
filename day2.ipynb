{
 "cells": [
  {
   "cell_type": "code",
   "execution_count": 48,
   "metadata": {},
   "outputs": [
    {
     "name": "stdout",
     "output_type": "stream",
     "text": [
      "606\n"
     ]
    }
   ],
   "source": [
    "file = open('./input/day2.txt','r',encoding='utf-8')\n",
    "def validate(a,b,increasing):  \n",
    "\n",
    "    if increasing:\n",
    "        if b <= a: \n",
    "            return False\n",
    "        if (b - a) > 3:\n",
    "            return False\n",
    "    else:\n",
    "        if b >= a: \n",
    "            return False\n",
    "        if (a - b) > 3:\n",
    "            return False\n",
    "            \n",
    "    return True\n",
    "\n",
    "def analyze(elements):\n",
    "    l=0\n",
    "    r=1\n",
    "    increasing=True if elements[l] < elements[r] else False\n",
    "    for i in range(1,len(elements)):\n",
    "        if not validate(elements[i-1],elements[i],increasing):\n",
    "            return False\n",
    "    return True\n",
    "\n",
    "with file as f:\n",
    "    count=0\n",
    "    for line in f:\n",
    "        elements=line.split()\n",
    "        elements=list(map(lambda x: int(x),elements))\n",
    "        if(analyze(elements)):\n",
    "            count+=1\n",
    "    print(count)"
   ]
  },
  {
   "cell_type": "code",
   "execution_count": 54,
   "metadata": {},
   "outputs": [
    {
     "name": "stdout",
     "output_type": "stream",
     "text": [
      "644\n"
     ]
    }
   ],
   "source": [
    "\n",
    "file = open('./input/day2.txt','r',encoding='utf-8')\n",
    "with file as f:\n",
    "    count=0\n",
    "    for line in f:\n",
    "        elements=line.split()\n",
    "        elements=list(map(lambda x: int(x),elements))\n",
    "        if(analyze(elements)):\n",
    "            count+=1\n",
    "        else:\n",
    "            for i in range(len(elements)):\n",
    "                new_elements=elements[:i]+elements[i+1:]\n",
    "                if analyze(new_elements):\n",
    "                    count+=1\n",
    "                    break\n",
    "    print(count)\n",
    "\n"
   ]
  },
  {
   "cell_type": "code",
   "execution_count": null,
   "metadata": {},
   "outputs": [],
   "source": []
  }
 ],
 "metadata": {
  "kernelspec": {
   "display_name": "Python 3",
   "language": "python",
   "name": "python3"
  },
  "language_info": {
   "codemirror_mode": {
    "name": "ipython",
    "version": 3
   },
   "file_extension": ".py",
   "mimetype": "text/x-python",
   "name": "python",
   "nbconvert_exporter": "python",
   "pygments_lexer": "ipython3",
   "version": "3.11.4"
  }
 },
 "nbformat": 4,
 "nbformat_minor": 2
}
