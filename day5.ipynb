{
 "cells": [
  {
   "cell_type": "code",
   "execution_count": 73,
   "metadata": {},
   "outputs": [],
   "source": [
    "import re\n",
    "file = open('./input/day5.txt', 'r')\n",
    "order=[]\n",
    "updates=[]\n",
    "pattern=r\"\\d+\\|\\d+\"\n",
    "with file as f:\n",
    "    for line in f:\n",
    "        if line == '\\n':\n",
    "            continue\n",
    "        if re.match(pattern,line):\n",
    "            line=line.strip()\n",
    "            order.append(tuple(map(int,line.split('|'))))\n",
    "        else:\n",
    "            line=line.strip()\n",
    "            updates.append(list(map(int,line.split(','))))"
   ]
  },
  {
   "cell_type": "code",
   "execution_count": null,
   "metadata": {},
   "outputs": [],
   "source": [
    "hmap={}\n",
    "for pair in order:\n",
    "    if pair[0] in hmap:\n",
    "        hmap[pair[0]].append(pair[1])\n",
    "    else:\n",
    "        hmap[pair[0]]=[pair[1]]\n",
    "\n",
    "def isValid(update):\n",
    "    for i in range(len(update)-1,-1,-1):\n",
    "        if update[i] in hmap:\n",
    "            for j in range(i-1,-1,-1):\n",
    "                if update[j] in hmap[update[i]]:\n",
    "                    return False\n",
    "    return True\n",
    "\n",
    "from collections import deque\n",
    "def order(update):\n",
    "    #first element is one that is not a children of any elements\n",
    "    new=[]\n",
    "    que=deque(update)\n",
    "    while que:\n",
    "        choice=que.popleft()\n",
    "        valid=True\n",
    "        for element in que:\n",
    "            if element in hmap and choice in hmap[element]:\n",
    "                valid=False\n",
    "                break\n",
    "        if valid:\n",
    "            new.append(choice)\n",
    "        else:\n",
    "            que.append(choice)\n",
    "    return new\n",
    "\n",
    "res=0\n",
    "res2=0\n",
    "for update in updates:\n",
    "\n",
    "    if isValid(update):\n",
    "        assert len(update)%2 != 0\n",
    "        #print(update[(len(update)//2)])\n",
    "        res+=update[(len(update)//2)]\n",
    "    else:\n",
    "        new=order(update)\n",
    "        res2+=new[(len(new)//2)]\n",
    "\n",
    "print(res)\n",
    "print(res2)"
   ]
  },
  {
   "cell_type": "code",
   "execution_count": null,
   "metadata": {},
   "outputs": [],
   "source": []
  }
 ],
 "metadata": {
  "kernelspec": {
   "display_name": "Python 3",
   "language": "python",
   "name": "python3"
  },
  "language_info": {
   "codemirror_mode": {
    "name": "ipython",
    "version": 3
   },
   "file_extension": ".py",
   "mimetype": "text/x-python",
   "name": "python",
   "nbconvert_exporter": "python",
   "pygments_lexer": "ipython3",
   "version": "3.11.4"
  }
 },
 "nbformat": 4,
 "nbformat_minor": 2
}
