{
 "cells": [
  {
   "cell_type": "code",
   "execution_count": 58,
   "metadata": {},
   "outputs": [
    {
     "name": "stdout",
     "output_type": "stream",
     "text": [
      "173731097\n"
     ]
    }
   ],
   "source": [
    "import re\n",
    "file = open('./input/day3.txt','r',encoding='utf-8')\n",
    "mul = re.compile(r'[m][u][l]\\([0-9]*,[0-9]*\\)')   \n",
    "sub=re.compile(r'[0-9]+')\n",
    "def process(line):\n",
    "    res=0\n",
    "    arr=re.findall(mul,line)\n",
    "    for x in arr:\n",
    "        pair=re.findall(sub,x)\n",
    "        assert len(pair) == 2\n",
    "        res+=int(pair[0])*int(pair[1])\n",
    "    return res\n",
    "res=0\n",
    "with file as f:\n",
    "    for line in f:\n",
    "        res+=process(line)        \n",
    "print(res)"
   ]
  },
  {
   "cell_type": "code",
   "execution_count": 86,
   "metadata": {},
   "outputs": [
    {
     "name": "stdout",
     "output_type": "stream",
     "text": [
      "93729253\n"
     ]
    }
   ],
   "source": [
    "res=0\n",
    "switch = re.compile(r'(do\\(\\))|(don\\'t\\(\\))')\n",
    "file = open('./input/day3.txt','r',encoding='utf-8')\n",
    "dont=re.compile(r'don\\'t\\(\\)')\n",
    "do=re.compile(r'do\\(\\)')\n",
    "bigline=''\n",
    "with file as f:\n",
    "    for line in f:\n",
    "        bigline+=line\n",
    "bigline = bigline.replace('\\n', '')       \n",
    "lines = dont.split(bigline)\n",
    "res+=process(lines[0])\n",
    "for i in range(1,len(lines)):\n",
    "    justdo=do.split(lines[i])\n",
    "    for i in range(1,len(justdo)):\n",
    "        res+=process(justdo[i])          \n",
    "print(res)"
   ]
  },
  {
   "cell_type": "code",
   "execution_count": null,
   "metadata": {},
   "outputs": [],
   "source": []
  }
 ],
 "metadata": {
  "kernelspec": {
   "display_name": "Python 3",
   "language": "python",
   "name": "python3"
  },
  "language_info": {
   "codemirror_mode": {
    "name": "ipython",
    "version": 3
   },
   "file_extension": ".py",
   "mimetype": "text/x-python",
   "name": "python",
   "nbconvert_exporter": "python",
   "pygments_lexer": "ipython3",
   "version": "3.11.4"
  }
 },
 "nbformat": 4,
 "nbformat_minor": 2
}
