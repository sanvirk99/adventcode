{
 "cells": [
  {
   "cell_type": "code",
   "execution_count": 41,
   "metadata": {},
   "outputs": [],
   "source": [
    "file = open('./input/day4.txt','r',encoding='utf-8')\n",
    "\n",
    "\n",
    "grid=[]\n",
    "word=\"XMAS\"\n",
    "with file as f:\n",
    "\n",
    "    for line in f:\n",
    "        grid.append([])\n",
    "        line=line.strip()\n",
    "        for letter in line:\n",
    "            if letter in word:\n",
    "                grid[-1].append(letter)\n",
    "            else:\n",
    "                grid[-1].append('.')\n"
   ]
  },
  {
   "cell_type": "code",
   "execution_count": 42,
   "metadata": {},
   "outputs": [
    {
     "name": "stdout",
     "output_type": "stream",
     "text": [
      "2462\n"
     ]
    }
   ],
   "source": [
    "res=[0]\n",
    "\n",
    "\n",
    "def dfs(x,y,i,path,dirc):\n",
    "\n",
    "    if not (0 <= x < len(grid) and 0 <= y < len(grid[0])):\n",
    "        return\n",
    "\n",
    "    if word[i] != grid[x][y]:\n",
    "        return\n",
    "\n",
    "    if i == len(word) - 1:\n",
    "        res[0]=res[0]+1\n",
    "        return   \n",
    "    \n",
    "    i+=1\n",
    "\n",
    "    if path == 'H' and dirc == 'F':\n",
    "        dfs(x+1,y,i,path,dirc)\n",
    "    if path == 'H' and dirc == 'B':\n",
    "        dfs(x-1,y,i,path,dirc)\n",
    "    if path == 'V' and dirc == 'F':\n",
    "        dfs(x,y+1,i,path,dirc)\n",
    "    if path == 'V' and dirc == 'B':\n",
    "        dfs(x,y-1,i,path,dirc)\n",
    "    if path == 'DR' and dirc == 'F':\n",
    "        dfs(x+1,y+1,i,path,dirc)\n",
    "    if path == 'DR' and dirc == 'B':\n",
    "        dfs(x-1,y-1,i,path,dirc)\n",
    "    if path == 'DL' and dirc == 'F':\n",
    "        dfs(x-1,y+1,i,path,dirc)\n",
    "    if path == 'DL' and dirc == 'B':\n",
    "        dfs(x+1,y-1,i,path,dirc)\n",
    "\n",
    "\n",
    "\n",
    "for i in range(len(grid)):\n",
    "\n",
    "    for j in range(len(grid[0])): \n",
    "\n",
    "        if grid[i][j] == word[0]:           \n",
    "            dfs(i,j,0,\"DR\",'F')\n",
    "            dfs(i,j,0,\"V\",'F')\n",
    "            dfs(i,j,0,\"H\",'F')\n",
    "            dfs(i,j,0,\"DL\",'F')\n",
    "            dfs(i,j,0,\"DR\",'B')\n",
    "            dfs(i,j,0,\"V\",'B')\n",
    "            dfs(i,j,0,\"H\",'B')\n",
    "            dfs(i,j,0,\"DL\",'B')\n",
    "            \n",
    "\n",
    "print(res[0])"
   ]
  },
  {
   "cell_type": "code",
   "execution_count": 43,
   "metadata": {},
   "outputs": [
    {
     "name": "stdout",
     "output_type": "stream",
     "text": [
      "1877\n"
     ]
    }
   ],
   "source": [
    "res=[0]\n",
    "def inrange(x,y):\n",
    "    return 0 <= x < len(grid) and 0 <= y < len(grid[0])\n",
    "def xmas(x,y):\n",
    "\n",
    "    if inrange(x-1,y+1) and inrange(x+1,y-1) and inrange(x+1,y+1) and inrange(x-1,y-1):\n",
    "\n",
    "        if grid[x-1][y+1] == 'M' and grid[x+1][y-1] == 'S' and grid[x+1][y+1] == 'S' and grid[x-1][y-1] == 'M':\n",
    "            res[0]=res[0]+1\n",
    "            return\n",
    "        \n",
    "        if grid[x-1][y+1] == 'S' and grid[x+1][y-1] == 'M' and grid[x+1][y+1] == 'M' and grid[x-1][y-1] == 'S':\n",
    "            res[0]=res[0]+1\n",
    "            return\n",
    "        \n",
    "\n",
    "        if grid[x-1][y+1] == 'S' and grid[x+1][y-1] == 'M' and grid[x+1][y+1] == 'S' and grid[x-1][y-1] == 'M':\n",
    "            res[0]=res[0]+1\n",
    "            return\n",
    "        \n",
    "        if grid[x-1][y+1] == 'M' and grid[x+1][y-1] == 'S' and grid[x+1][y+1] == 'M' and grid[x-1][y-1] == 'S':\n",
    "            res[0]=res[0]+1\n",
    "            return\n",
    "        \n",
    "\n",
    "for i in range(len(grid)):\n",
    "\n",
    "    for j in range(len(grid[0])): \n",
    "\n",
    "        if grid[i][j] == 'A':           \n",
    "            xmas(i,j)\n",
    "\n",
    "print(res[0])"
   ]
  }
 ],
 "metadata": {
  "kernelspec": {
   "display_name": "Python 3",
   "language": "python",
   "name": "python3"
  },
  "language_info": {
   "codemirror_mode": {
    "name": "ipython",
    "version": 3
   },
   "file_extension": ".py",
   "mimetype": "text/x-python",
   "name": "python",
   "nbconvert_exporter": "python",
   "pygments_lexer": "ipython3",
   "version": "3.11.4"
  }
 },
 "nbformat": 4,
 "nbformat_minor": 2
}
