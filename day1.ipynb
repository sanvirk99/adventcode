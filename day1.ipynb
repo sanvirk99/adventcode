{
 "cells": [
  {
   "cell_type": "code",
   "execution_count": 3,
   "metadata": {},
   "outputs": [
    {
     "name": "stdout",
     "output_type": "stream",
     "text": [
      "3508942\n"
     ]
    }
   ],
   "source": [
    "def readInput(file_path):\n",
    "    l1 = []\n",
    "    l2 = []\n",
    "    file=open(file_path,'r',encoding=\"utf-8\")\n",
    "    with file as f:\n",
    "        for line in f:\n",
    "            #print(line.split())\n",
    "            e1,e2=line.split()\n",
    "            l1.append(int(e1))\n",
    "            l2.append(int(e2))\n",
    "\n",
    "    return (l1,l2)\n",
    "\n",
    "l1,l2=readInput(\"./input/day1.txt\")\n",
    "\n",
    "l1.sort()\n",
    "l2.sort()\n",
    "\n",
    "res=0\n",
    "for pair in zip(l1,l2):\n",
    "    #print(pair)\n",
    "   \n",
    "    diff=abs(pair[0]-pair[1])\n",
    "    res+=diff\n",
    "\n",
    "print(res)"
   ]
  },
  {
   "cell_type": "code",
   "execution_count": 4,
   "metadata": {},
   "outputs": [
    {
     "name": "stdout",
     "output_type": "stream",
     "text": [
      "31\n"
     ]
    }
   ],
   "source": [
    "from collections import Counter\n",
    "\n",
    "l1,l2 = readInput('./input/day1test.txt')\n",
    "\n",
    "freq=Counter(l2)\n",
    "\n",
    "simScore=0\n",
    "for num in l1:\n",
    "\n",
    "    simScore+=(num * freq[num])\n",
    "\n",
    "print(simScore) "
   ]
  },
  {
   "cell_type": "code",
   "execution_count": 5,
   "metadata": {},
   "outputs": [
    {
     "name": "stdout",
     "output_type": "stream",
     "text": [
      "26593248\n"
     ]
    }
   ],
   "source": [
    "l1,l2 = readInput('./input/day1.txt')\n",
    "\n",
    "freq=Counter(l2)\n",
    "\n",
    "simScore=0\n",
    "for num in l1:\n",
    "\n",
    "    simScore+=(num * freq[num])\n",
    "    \n",
    "print(simScore) "
   ]
  }
 ],
 "metadata": {
  "kernelspec": {
   "display_name": "Python 3",
   "language": "python",
   "name": "python3"
  },
  "language_info": {
   "codemirror_mode": {
    "name": "ipython",
    "version": 3
   },
   "file_extension": ".py",
   "mimetype": "text/x-python",
   "name": "python",
   "nbconvert_exporter": "python",
   "pygments_lexer": "ipython3",
   "version": "3.11.4"
  }
 },
 "nbformat": 4,
 "nbformat_minor": 2
}
