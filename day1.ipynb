{
 "cells": [
  {
   "cell_type": "code",
   "execution_count": 1,
   "metadata": {},
   "outputs": [
    {
     "name": "stdout",
     "output_type": "stream",
     "text": [
      "3508942\n"
     ]
    }
   ],
   "source": [
    "\n",
    "file=open('./input/day1.txt','r',encoding=\"utf-8\")\n",
    "\n",
    "l1 = []\n",
    "l2 = []\n",
    "\n",
    "with file as f:\n",
    "    \n",
    "    for line in f:\n",
    "        #print(line.split())\n",
    "        e1,e2=line.split()\n",
    "        l1.append(int(e1))\n",
    "        l2.append(int(e2))\n",
    "\n",
    "l1.sort()\n",
    "l2.sort()\n",
    "\n",
    "\n",
    "res=0\n",
    "for pair in zip(l1,l2):\n",
    "    #print(pair)\n",
    "   \n",
    "    diff=abs(pair[0]-pair[1])\n",
    "    res+=diff\n",
    "\n",
    "print(res)"
   ]
  }
 ],
 "metadata": {
  "kernelspec": {
   "display_name": "Python 3",
   "language": "python",
   "name": "python3"
  },
  "language_info": {
   "codemirror_mode": {
    "name": "ipython",
    "version": 3
   },
   "file_extension": ".py",
   "mimetype": "text/x-python",
   "name": "python",
   "nbconvert_exporter": "python",
   "pygments_lexer": "ipython3",
   "version": "3.11.4"
  }
 },
 "nbformat": 4,
 "nbformat_minor": 2
}
