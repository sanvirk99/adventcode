{
 "cells": [
  {
   "cell_type": "code",
   "execution_count": 18,
   "metadata": {},
   "outputs": [
    {
     "name": "stdout",
     "output_type": "stream",
     "text": [
      "B^C -> B\n",
      "B^3 -> B\n",
      "A/2^3 >>3 -> A\n"
     ]
    },
    {
     "data": {
      "text/plain": [
       "\"(281474976710656, '1000000000000000000000000000000000000000000000000')\""
      ]
     },
     "execution_count": 18,
     "metadata": {},
     "output_type": "execute_result"
    }
   ],
   "source": [
    "def out(n):\n",
    "    return str((n,bin(n)[2:]))\n",
    "\n",
    "out(51342988)\n",
    "out(2**7)\n",
    "\n",
    "print('B^C -> B')\n",
    "out(401117)\n",
    "out(7)\n",
    "out(401114)\n",
    "print('B^3 -> B')\n",
    "out(401114)\n",
    "out(3)\n",
    "out(401113)\n",
    "print('A/2^3 >>3 -> A')\n",
    "out(51342988)\n",
    "out(2**3)\n",
    "out(6417873)\n",
    "out(1604469)\n",
    "\n",
    "out(2**48)"
   ]
  },
  {
   "cell_type": "code",
   "execution_count": 45,
   "metadata": {},
   "outputs": [
    {
     "name": "stdout",
     "output_type": "stream",
     "text": [
      "(196, '11000100')\n",
      "(4, '100') (12, '1100')\n",
      "(7, '111')\n",
      "(11, '1011')\n",
      "(8, '1000')\n",
      "(24, '11000')\n"
     ]
    }
   ],
   "source": [
    "print(out(196))\n",
    "\n",
    "print(out(196%8), out(196//(2**(196%8))))\n",
    "\n",
    "print(out((196%8)  ^ 3))\n",
    "\n",
    "\n",
    "print(out(((196%8)  ^ 3) ^ (196//(2**(196%8)))))\n",
    "\n",
    "print(out(11^3))\n",
    "\n",
    "print(out(196//(2**(3))))\n",
    "\n",
    "\n"
   ]
  },
  {
   "cell_type": "code",
   "execution_count": 47,
   "metadata": {},
   "outputs": [
    {
     "name": "stdout",
     "output_type": "stream",
     "text": [
      "(24, '11000')\n",
      "(0, '0') (24, '11000')\n",
      "(3, '11')\n",
      "(27, '11011')\n",
      "(24, '11000')\n"
     ]
    }
   ],
   "source": [
    "print(out(24))\n",
    "\n",
    "print(out(24%8), out(24//(2**(24%8))))\n",
    "\n",
    "print(out((24%8)  ^ 3))\n",
    "\n",
    "\n",
    "print(out(((24%8)  ^ 3) ^ (24//(2**(24%8)))))\n",
    "\n",
    "print(out(27^3))"
   ]
  },
  {
   "cell_type": "code",
   "execution_count": 70,
   "metadata": {},
   "outputs": [
    {
     "name": "stdout",
     "output_type": "stream",
     "text": [
      "0b11000100\n",
      "11000100000\n",
      "1568\n"
     ]
    }
   ],
   "source": [
    "print(bin(196))\n",
    "str1=(bin(196)[2:])+'000'\n",
    "print(str1)\n",
    "print(int(str1,2))\n"
   ]
  }
 ],
 "metadata": {
  "kernelspec": {
   "display_name": "Python 3",
   "language": "python",
   "name": "python3"
  },
  "language_info": {
   "codemirror_mode": {
    "name": "ipython",
    "version": 3
   },
   "file_extension": ".py",
   "mimetype": "text/x-python",
   "name": "python",
   "nbconvert_exporter": "python",
   "pygments_lexer": "ipython3",
   "version": "3.11.4"
  }
 },
 "nbformat": 4,
 "nbformat_minor": 2
}
